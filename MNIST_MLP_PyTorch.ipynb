{
 "cells": [
  {
   "cell_type": "code",
   "execution_count": 4,
   "id": "b7986d56",
   "metadata": {},
   "outputs": [
    {
     "name": "stdout",
     "output_type": "stream",
     "text": [
      "Using PyTorch version: 1.9.1  Device: cpu\n"
     ]
    }
   ],
   "source": [
    "import torch\n",
    "import torch.nn as nn\n",
    "import torch.nn.functional as F\n",
    "from torchvision import datasets, transforms\n",
    "\n",
    "import numpy as np\n",
    "import matplotlib.pyplot as plt\n",
    "\n",
    "if torch.cuda.is_available():\n",
    "    device = torch.device('cuda')\n",
    "else:\n",
    "    device = torch.device('cpu')\n",
    "    \n",
    "print('Using PyTorch version:', torch.__version__, ' Device:', device)"
   ]
  },
  {
   "cell_type": "code",
   "execution_count": 5,
   "id": "0a77f981",
   "metadata": {},
   "outputs": [
    {
     "name": "stdout",
     "output_type": "stream",
     "text": [
      "Downloading http://yann.lecun.com/exdb/mnist/train-images-idx3-ubyte.gz\n",
      "Downloading http://yann.lecun.com/exdb/mnist/train-images-idx3-ubyte.gz to ./data/MNIST/raw/train-images-idx3-ubyte.gz\n"
     ]
    },
    {
     "data": {
      "application/vnd.jupyter.widget-view+json": {
       "model_id": "9eb6a6dcf9b144cbab4269b650f21153",
       "version_major": 2,
       "version_minor": 0
      },
      "text/plain": [
       "  0%|          | 0/9912422 [00:00<?, ?it/s]"
      ]
     },
     "metadata": {},
     "output_type": "display_data"
    },
    {
     "name": "stdout",
     "output_type": "stream",
     "text": [
      "Extracting ./data/MNIST/raw/train-images-idx3-ubyte.gz to ./data/MNIST/raw\n",
      "\n",
      "Downloading http://yann.lecun.com/exdb/mnist/train-labels-idx1-ubyte.gz\n",
      "Downloading http://yann.lecun.com/exdb/mnist/train-labels-idx1-ubyte.gz to ./data/MNIST/raw/train-labels-idx1-ubyte.gz\n"
     ]
    },
    {
     "data": {
      "application/vnd.jupyter.widget-view+json": {
       "model_id": "f9e08b7a2d29433f82f3f457318e27b1",
       "version_major": 2,
       "version_minor": 0
      },
      "text/plain": [
       "  0%|          | 0/28881 [00:00<?, ?it/s]"
      ]
     },
     "metadata": {},
     "output_type": "display_data"
    },
    {
     "name": "stdout",
     "output_type": "stream",
     "text": [
      "Extracting ./data/MNIST/raw/train-labels-idx1-ubyte.gz to ./data/MNIST/raw\n",
      "\n",
      "Downloading http://yann.lecun.com/exdb/mnist/t10k-images-idx3-ubyte.gz\n",
      "Downloading http://yann.lecun.com/exdb/mnist/t10k-images-idx3-ubyte.gz to ./data/MNIST/raw/t10k-images-idx3-ubyte.gz\n"
     ]
    },
    {
     "data": {
      "application/vnd.jupyter.widget-view+json": {
       "model_id": "3f7414324f5549be93e1011be51c6f36",
       "version_major": 2,
       "version_minor": 0
      },
      "text/plain": [
       "  0%|          | 0/1648877 [00:00<?, ?it/s]"
      ]
     },
     "metadata": {},
     "output_type": "display_data"
    },
    {
     "name": "stdout",
     "output_type": "stream",
     "text": [
      "Extracting ./data/MNIST/raw/t10k-images-idx3-ubyte.gz to ./data/MNIST/raw\n",
      "\n",
      "Downloading http://yann.lecun.com/exdb/mnist/t10k-labels-idx1-ubyte.gz\n",
      "Downloading http://yann.lecun.com/exdb/mnist/t10k-labels-idx1-ubyte.gz to ./data/MNIST/raw/t10k-labels-idx1-ubyte.gz\n"
     ]
    },
    {
     "data": {
      "application/vnd.jupyter.widget-view+json": {
       "model_id": "5f91b3f3389e4770bd924cd3d5894ba3",
       "version_major": 2,
       "version_minor": 0
      },
      "text/plain": [
       "  0%|          | 0/4542 [00:00<?, ?it/s]"
      ]
     },
     "metadata": {},
     "output_type": "display_data"
    },
    {
     "name": "stdout",
     "output_type": "stream",
     "text": [
      "Extracting ./data/MNIST/raw/t10k-labels-idx1-ubyte.gz to ./data/MNIST/raw\n",
      "\n"
     ]
    },
    {
     "name": "stderr",
     "output_type": "stream",
     "text": [
      "/opt/anaconda3/lib/python3.8/site-packages/torchvision/datasets/mnist.py:498: UserWarning: The given NumPy array is not writeable, and PyTorch does not support non-writeable tensors. This means you can write to the underlying (supposedly non-writeable) NumPy array using the tensor. You may want to copy the array to protect its data or make it writeable before converting it to a tensor. This type of warning will be suppressed for the rest of this program. (Triggered internally at  ../torch/csrc/utils/tensor_numpy.cpp:180.)\n",
      "  return torch.from_numpy(parsed.astype(m[2], copy=False)).view(*s)\n"
     ]
    }
   ],
   "source": [
    "batch_size = 32\n",
    "\n",
    "train_dataset = datasets.MNIST('./data', \n",
    "                               train=True, \n",
    "                               download=True, \n",
    "                               transform=transforms.ToTensor())\n",
    "\n",
    "validation_dataset = datasets.MNIST('./data', \n",
    "                                    train=False, \n",
    "                                    transform=transforms.ToTensor())\n",
    "\n",
    "train_loader = torch.utils.data.DataLoader(dataset=train_dataset, \n",
    "                                           batch_size=batch_size, \n",
    "                                           shuffle=True)\n",
    "\n",
    "validation_loader = torch.utils.data.DataLoader(dataset=validation_dataset, \n",
    "                                                batch_size=batch_size, \n",
    "                                                shuffle=False)"
   ]
  },
  {
   "cell_type": "code",
   "execution_count": 6,
   "id": "1796876a",
   "metadata": {},
   "outputs": [
    {
     "name": "stdout",
     "output_type": "stream",
     "text": [
      "X_train: torch.Size([32, 1, 28, 28]) type: torch.FloatTensor\n",
      "y_train: torch.Size([32]) type: torch.LongTensor\n"
     ]
    }
   ],
   "source": [
    "for (X_train, y_train) in train_loader:\n",
    "    print('X_train:', X_train.size(), 'type:', X_train.type())\n",
    "    print('y_train:', y_train.size(), 'type:', y_train.type())\n",
    "    break"
   ]
  },
  {
   "cell_type": "code",
   "execution_count": 7,
   "id": "b5129f15",
   "metadata": {},
   "outputs": [
    {
     "data": {
      "image/png": "[encoded data removed]",
      "text/plain": [
       "<Figure size 720x72 with 10 Axes>"
      ]
     },
     "metadata": {
      "needs_background": "light"
     },
     "output_type": "display_data"
    }
   ],
   "source": [
    "pltsize=1\n",
    "plt.figure(figsize=(10*pltsize, pltsize))\n",
    "\n",
    "for i in range(10):\n",
    "    plt.subplot(1,10,i+1)\n",
    "    plt.axis('off')\n",
    "    plt.imshow(X_train[i,:,:,:].numpy().reshape(28,28), cmap=\"gray_r\")\n",
    "    plt.title('Class: '+str(y_train[i].item()))"
   ]
  },
  {
   "cell_type": "code",
   "execution_count": 8,
   "id": "eab1eace",
   "metadata": {},
   "outputs": [
    {
     "name": "stdout",
     "output_type": "stream",
     "text": [
      "Net(\n",
      "  (fc1): Linear(in_features=784, out_features=50, bias=True)\n",
      "  (fc1_drop): Dropout(p=0.2, inplace=False)\n",
      "  (fc2): Linear(in_features=50, out_features=50, bias=True)\n",
      "  (fc2_drop): Dropout(p=0.2, inplace=False)\n",
      "  (fc3): Linear(in_features=50, out_features=50, bias=True)\n",
      "  (fc3_drop): Dropout(p=0.2, inplace=False)\n",
      "  (fc4): Linear(in_features=50, out_features=50, bias=True)\n",
      "  (fc4_drop): Dropout(p=0.2, inplace=False)\n",
      "  (fc5): Linear(in_features=50, out_features=10, bias=True)\n",
      ")\n"
     ]
    },
    {
     "data": {
      "text/plain": [
       "torch.Size([50, 784])"
      ]
     },
     "execution_count": 8,
     "metadata": {},
     "output_type": "execute_result"
    }
   ],
   "source": [
    "class Net(nn.Module):\n",
    "    def __init__(self, Net):\n",
    "        super(Net, self).__init__()\n",
    "        self.fc1 = nn.Linear(28*28, 50)\n",
    "        self.fc1_drop = nn.Dropout(0.2)\n",
    "        self.fc2 = nn.Linear(50, 50)\n",
    "        self.fc2_drop = nn.Dropout(0.2)\n",
    "        self.fc3 = nn.Linear(50, 50)\n",
    "        self.fc3_drop = nn.Dropout(0.2)\n",
    "        self.fc4 = nn.Linear(50, 50)\n",
    "        self.fc4_drop = nn.Dropout(0.2)\n",
    "        self.fc5 = nn.Linear(50, 10)\n",
    "\n",
    "    def forward(self, x):\n",
    "        x = x.view(-1, 28*28)\n",
    "        x = F.relu(self.fc1(x))\n",
    "        x = self.fc1_drop(x)\n",
    "        x = F.relu(self.fc2(x))\n",
    "        x = self.fc2_drop(x)\n",
    "        x = F.relu(self.fc3(x))\n",
    "        x = self.fc3_drop(x)\n",
    "        x = F.relu(self.fc4(x))\n",
    "        x = self.fc4_drop(x)\n",
    "        return F.log_softmax(self.fc5(x), dim=1)\n",
    "\n",
    "model = Net(Net).to(device)\n",
    "optimizer = torch.optim.SGD(model.parameters(), lr=0.01, momentum=0.5)\n",
    "criterion = nn.CrossEntropyLoss()\n",
    "\n",
    "\n",
    "\n",
    "print(model)\n",
    "\n",
    "model.fc1.weight\n",
    "\n",
    "model.fc1.weight.size()"
   ]
  },
  {
   "cell_type": "code",
   "execution_count": 9,
   "id": "8417ae1b",
   "metadata": {},
   "outputs": [
    {
     "data": {
      "text/plain": [
       "Parameter containing:\n",
       "tensor([[ 0.0584,  0.0014,  0.0943,  ..., -0.0109,  0.0863,  0.0553],\n",
       "        [-0.0459, -0.0720,  0.1261,  ..., -0.0339, -0.0722,  0.0471],\n",
       "        [ 0.0855,  0.0432, -0.0409,  ...,  0.0389, -0.1095, -0.0933],\n",
       "        ...,\n",
       "        [ 0.0024, -0.0747, -0.0078,  ...,  0.0906, -0.0174,  0.1373],\n",
       "        [ 0.1030, -0.1299, -0.0027,  ...,  0.1101,  0.0661,  0.0442],\n",
       "        [ 0.1278, -0.0672, -0.0647,  ...,  0.1018,  0.0829, -0.0989]],\n",
       "       requires_grad=True)"
      ]
     },
     "execution_count": 9,
     "metadata": {},
     "output_type": "execute_result"
    }
   ],
   "source": [
    "model.fc3.weight"
   ]
  },
  {
   "cell_type": "code",
   "execution_count": 10,
   "id": "186cd470",
   "metadata": {},
   "outputs": [
    {
     "data": {
      "text/plain": [
       "torch.Size([50, 50])"
      ]
     },
     "execution_count": 10,
     "metadata": {},
     "output_type": "execute_result"
    }
   ],
   "source": [
    "model.fc3.weight.size()"
   ]
  },
  {
   "cell_type": "code",
   "execution_count": 11,
   "id": "8a958b45",
   "metadata": {},
   "outputs": [
    {
     "data": {
      "text/plain": [
       "Parameter containing:\n",
       "tensor([[ 0.0349, -0.0294,  0.0270,  ...,  0.0211, -0.0113,  0.0100],\n",
       "        [ 0.0230,  0.0346,  0.0006,  ..., -0.0300, -0.0025, -0.0240],\n",
       "        [ 0.0353,  0.0303, -0.0055,  ..., -0.0158,  0.0199,  0.0016],\n",
       "        ...,\n",
       "        [ 0.0109, -0.0212,  0.0062,  ..., -0.0096, -0.0263,  0.0157],\n",
       "        [ 0.0228,  0.0040,  0.0327,  ...,  0.0143, -0.0126,  0.0213],\n",
       "        [-0.0165,  0.0011, -0.0155,  ..., -0.0082, -0.0025, -0.0165]],\n",
       "       requires_grad=True)"
      ]
     },
     "execution_count": 11,
     "metadata": {},
     "output_type": "execute_result"
    }
   ],
   "source": [
    "model.fc1.weight"
   ]
  },
  {
   "cell_type": "code",
   "execution_count": 12,
   "id": "766062e1",
   "metadata": {},
   "outputs": [
    {
     "data": {
      "text/plain": [
       "Parameter containing:\n",
       "tensor([[ 0.0470, -0.0461, -0.0431,  ...,  0.1168,  0.0541,  0.1002],\n",
       "        [ 0.0733, -0.0984,  0.0675,  ...,  0.1172, -0.0131, -0.0685],\n",
       "        [ 0.0556,  0.0902,  0.0211,  ..., -0.0379,  0.0555, -0.1101],\n",
       "        ...,\n",
       "        [-0.0592, -0.1368, -0.1186,  ...,  0.0032,  0.0745, -0.0906],\n",
       "        [ 0.0982,  0.0673,  0.0709,  ..., -0.0569, -0.1065,  0.0251],\n",
       "        [ 0.1401, -0.1190,  0.0166,  ...,  0.0764,  0.0777,  0.0952]],\n",
       "       requires_grad=True)"
      ]
     },
     "execution_count": 12,
     "metadata": {},
     "output_type": "execute_result"
    }
   ],
   "source": [
    "model.fc2.weight"
   ]
  },
  {
   "cell_type": "code",
   "execution_count": 13,
   "id": "f69e2c52",
   "metadata": {},
   "outputs": [
    {
     "data": {
      "text/plain": [
       "Parameter containing:\n",
       "tensor([[-0.0600,  0.0131, -0.0966,  ...,  0.0281,  0.0209, -0.0095],\n",
       "        [ 0.1027, -0.0468,  0.0203,  ..., -0.0534,  0.1111, -0.1395],\n",
       "        [-0.0767, -0.1173, -0.0317,  ..., -0.0370,  0.0207,  0.0800],\n",
       "        ...,\n",
       "        [-0.1246, -0.0612, -0.0361,  ..., -0.0295, -0.1329, -0.0722],\n",
       "        [ 0.0978, -0.0848, -0.0385,  ..., -0.0004, -0.0093, -0.0783],\n",
       "        [ 0.0602,  0.0678, -0.0726,  ..., -0.0699, -0.0620, -0.0749]],\n",
       "       requires_grad=True)"
      ]
     },
     "execution_count": 13,
     "metadata": {},
     "output_type": "execute_result"
    }
   ],
   "source": [
    "model.fc4.weight"
   ]
  },
  {
   "cell_type": "code",
   "execution_count": 14,
   "id": "706eb5cb",
   "metadata": {},
   "outputs": [
    {
     "data": {
      "text/plain": [
       "Parameter containing:\n",
       "tensor([[ 0.0468,  0.0113,  0.0103,  0.0784, -0.0473, -0.0097, -0.0945, -0.1196,\n",
       "         -0.0123,  0.0533, -0.0757, -0.1015, -0.0866, -0.1277,  0.0166,  0.0990,\n",
       "          0.1063,  0.0224, -0.0902,  0.0212, -0.0894,  0.1218, -0.0410, -0.1250,\n",
       "          0.0809, -0.1117, -0.0659,  0.0157, -0.0135,  0.0162,  0.1019, -0.0375,\n",
       "         -0.0360, -0.0952, -0.0576, -0.0034,  0.0497, -0.0255,  0.0025,  0.0203,\n",
       "         -0.0847,  0.1119, -0.0559,  0.0708,  0.1177, -0.1073, -0.1309,  0.0897,\n",
       "         -0.1178,  0.0248],\n",
       "        [-0.0143, -0.1139,  0.0353,  0.0769,  0.1340,  0.1046,  0.0357,  0.1197,\n",
       "          0.0971, -0.0607,  0.0221,  0.0702, -0.0629,  0.0563,  0.0752, -0.0798,\n",
       "         -0.0741,  0.1273,  0.0389,  0.1067,  0.0175, -0.1209, -0.0081, -0.0438,\n",
       "         -0.1015, -0.0120, -0.0937,  0.0766,  0.1374,  0.1368,  0.1152,  0.0480,\n",
       "         -0.0613, -0.1072,  0.0916,  0.0551,  0.1003, -0.1294,  0.0931,  0.1263,\n",
       "         -0.0492, -0.0454, -0.0782,  0.0678,  0.1244, -0.0184,  0.0615,  0.0689,\n",
       "         -0.0940, -0.1070],\n",
       "        [ 0.0475, -0.0939, -0.0792, -0.1106,  0.0021,  0.0312,  0.0607, -0.0256,\n",
       "          0.0976, -0.0752,  0.0264,  0.1068,  0.0774, -0.1279,  0.0639, -0.1234,\n",
       "          0.0324, -0.0236, -0.1027,  0.0642, -0.0204, -0.0367,  0.0909,  0.0441,\n",
       "         -0.0106, -0.1132,  0.0402, -0.0410,  0.0088,  0.0903,  0.0837, -0.0341,\n",
       "          0.0529, -0.0141, -0.0109,  0.0422, -0.1403, -0.0591,  0.0579, -0.0611,\n",
       "          0.0237, -0.1156, -0.0511,  0.0794, -0.0386,  0.0818,  0.1079,  0.1016,\n",
       "          0.0888, -0.0242],\n",
       "        [ 0.0766, -0.0073, -0.0722,  0.0681, -0.0626, -0.1069, -0.0303, -0.0074,\n",
       "         -0.1236,  0.1026,  0.1157, -0.0694,  0.0357,  0.0106, -0.1371,  0.0918,\n",
       "          0.1106,  0.1000,  0.0614,  0.1297, -0.1318, -0.0628,  0.0558,  0.0639,\n",
       "          0.0643, -0.0099,  0.0814, -0.0175,  0.0725,  0.0821, -0.0919,  0.1093,\n",
       "         -0.1132,  0.0360, -0.0328, -0.1202, -0.0583,  0.1024,  0.1237, -0.0238,\n",
       "          0.1028, -0.0901,  0.0094, -0.1239, -0.0653,  0.0470, -0.0073, -0.0449,\n",
       "         -0.0205,  0.0305],\n",
       "        [ 0.1268, -0.0370,  0.1292, -0.1065,  0.0828,  0.1196, -0.1009,  0.1364,\n",
       "          0.0067,  0.0483, -0.0023, -0.0748,  0.0811, -0.0298,  0.1344,  0.0465,\n",
       "         -0.0640,  0.1213, -0.0392,  0.0437,  0.0747,  0.0318, -0.0502, -0.0160,\n",
       "          0.1390,  0.0776, -0.0857, -0.0686,  0.0892,  0.0100,  0.0285,  0.1106,\n",
       "         -0.0172,  0.0142, -0.0812,  0.1342,  0.1059,  0.0018,  0.1121, -0.0469,\n",
       "          0.0302, -0.0145,  0.1361,  0.0583, -0.1151, -0.0221,  0.0339,  0.0430,\n",
       "          0.0423,  0.0263],\n",
       "        [ 0.0063,  0.1216,  0.0668, -0.0605,  0.1129,  0.0045, -0.0880, -0.1162,\n",
       "         -0.0859, -0.0125,  0.0203,  0.0024, -0.0809, -0.0519,  0.0853, -0.0059,\n",
       "          0.1337,  0.0919, -0.0505, -0.0088, -0.0734,  0.1382, -0.1219,  0.0928,\n",
       "         -0.0849, -0.0125, -0.0332,  0.0948,  0.0658,  0.0754,  0.0042,  0.0983,\n",
       "         -0.0794, -0.1309,  0.0629,  0.0662,  0.1243,  0.0649,  0.0702,  0.1046,\n",
       "         -0.0312,  0.0173, -0.1049, -0.1162,  0.0457,  0.0988,  0.1083, -0.0125,\n",
       "          0.0448, -0.0147],\n",
       "        [-0.0846, -0.0958,  0.0197,  0.0484, -0.0935, -0.1354,  0.1213, -0.1012,\n",
       "         -0.1338,  0.0644, -0.0126, -0.1173, -0.0384,  0.0409, -0.0472, -0.0254,\n",
       "          0.1010, -0.0703, -0.1027,  0.0530, -0.0294,  0.1155, -0.0706,  0.0507,\n",
       "         -0.1315, -0.0059,  0.1035, -0.1232, -0.0114,  0.0807, -0.0423,  0.0450,\n",
       "          0.0528,  0.0814, -0.0318,  0.1015,  0.0953, -0.0101,  0.0631, -0.1164,\n",
       "         -0.0144, -0.0425, -0.1282,  0.0968, -0.0870, -0.0855,  0.0526,  0.0305,\n",
       "          0.1007, -0.1380],\n",
       "        [ 0.1122, -0.0278,  0.1294, -0.0264, -0.0251,  0.1103,  0.0742, -0.1071,\n",
       "         -0.0351,  0.0905, -0.1298,  0.0767, -0.0919, -0.1059, -0.0510, -0.0072,\n",
       "          0.1144, -0.0889, -0.0734,  0.1182,  0.0481, -0.0394,  0.0695,  0.1110,\n",
       "         -0.0457,  0.0280,  0.1213, -0.0575,  0.0715, -0.0419,  0.0737,  0.0194,\n",
       "         -0.0854, -0.0793, -0.0467, -0.1095, -0.0938,  0.0792,  0.0914,  0.0547,\n",
       "         -0.1184, -0.0411, -0.0100, -0.0046,  0.0670,  0.0185, -0.0889, -0.0528,\n",
       "          0.0159, -0.0084],\n",
       "        [ 0.0266,  0.0964,  0.1120, -0.0769,  0.0668, -0.0998,  0.0482, -0.0238,\n",
       "         -0.0469,  0.0953,  0.1195, -0.0533, -0.0091,  0.1395,  0.0405,  0.0044,\n",
       "          0.0368,  0.0965, -0.0513, -0.0902, -0.0783,  0.0852,  0.0858,  0.0802,\n",
       "          0.0822,  0.0016,  0.0036,  0.0795,  0.0404,  0.1186, -0.1096,  0.0234,\n",
       "         -0.0773,  0.1330, -0.0921, -0.0628,  0.1027,  0.0619,  0.0618, -0.0688,\n",
       "          0.1167, -0.0810, -0.1060, -0.0733,  0.1006, -0.0899, -0.0091,  0.0126,\n",
       "          0.1107, -0.0756],\n",
       "        [-0.0210,  0.1057, -0.0265, -0.0849,  0.1072, -0.0933, -0.1141, -0.0478,\n",
       "          0.1270, -0.0975,  0.0034,  0.0443, -0.0366,  0.0485,  0.0503,  0.0357,\n",
       "          0.1237,  0.0114,  0.1178,  0.1061, -0.0454,  0.0665, -0.1311,  0.0951,\n",
       "          0.1065,  0.0994,  0.0265,  0.1041, -0.0929,  0.0899, -0.0520, -0.1054,\n",
       "         -0.1342,  0.0431, -0.0990, -0.0349,  0.0247, -0.0755,  0.1213, -0.1396,\n",
       "          0.0085, -0.0959,  0.0714,  0.0170,  0.0234,  0.0924,  0.1217, -0.1227,\n",
       "         -0.0825,  0.1103]], requires_grad=True)"
      ]
     },
     "execution_count": 14,
     "metadata": {},
     "output_type": "execute_result"
    }
   ],
   "source": [
    "model.fc5.weight"
   ]
  },
  {
   "cell_type": "code",
   "execution_count": 15,
   "id": "31ed422f",
   "metadata": {},
   "outputs": [
    {
     "data": {
      "text/plain": [
       "torch.Size([50, 784])"
      ]
     },
     "execution_count": 15,
     "metadata": {},
     "output_type": "execute_result"
    }
   ],
   "source": [
    "model.fc1.weight.size()"
   ]
  },
  {
   "cell_type": "code",
   "execution_count": 16,
   "id": "c065febe",
   "metadata": {},
   "outputs": [
    {
     "data": {
      "text/plain": [
       "torch.Size([50, 50])"
      ]
     },
     "execution_count": 16,
     "metadata": {},
     "output_type": "execute_result"
    }
   ],
   "source": [
    "model.fc2.weight.size()"
   ]
  },
  {
   "cell_type": "code",
   "execution_count": 17,
   "id": "f6bd5042",
   "metadata": {},
   "outputs": [
    {
     "data": {
      "text/plain": [
       "torch.Size([50, 50])"
      ]
     },
     "execution_count": 17,
     "metadata": {},
     "output_type": "execute_result"
    }
   ],
   "source": [
    "model.fc4.weight.size()"
   ]
  },
  {
   "cell_type": "code",
   "execution_count": 18,
   "id": "619768df",
   "metadata": {},
   "outputs": [
    {
     "data": {
      "text/plain": [
       "torch.Size([10, 50])"
      ]
     },
     "execution_count": 18,
     "metadata": {},
     "output_type": "execute_result"
    }
   ],
   "source": [
    "model.fc5.weight.size()"
   ]
  },
  {
   "cell_type": "code",
   "execution_count": null,
   "id": "19ea2d81",
   "metadata": {},
   "outputs": [],
   "source": []
  },
  {
   "cell_type": "code",
   "execution_count": 19,
   "id": "09004522",
   "metadata": {},
   "outputs": [],
   "source": [
    "def train(epoch, log_interval=200):\n",
    "    # Set model to training mode\n",
    "    model.train()\n",
    "    \n",
    "    # Loop over each batch from the training set\n",
    "    for batch_idx, (data, target) in enumerate(train_loader):\n",
    "        # Copy data to GPU if needed\n",
    "        data = data.to(device)\n",
    "        target = target.to(device)\n",
    "\n",
    "        # Zero gradient buffers\n",
    "        optimizer.zero_grad() \n",
    "        \n",
    "        # Pass data through the network\n",
    "        output = model(data)\n",
    "\n",
    "        # Calculate loss\n",
    "        loss = criterion(output, target)\n",
    "\n",
    "        # Backpropagate\n",
    "        loss.backward()\n",
    "        \n",
    "        # Update weights\n",
    "        optimizer.step()\n",
    "        \n",
    "        if batch_idx % log_interval == 0:\n",
    "            print('Train Epoch: {} [{}/{} ({:.0f}%)]\\tLoss: {:.6f}'.format(\n",
    "                epoch, batch_idx * len(data), len(train_loader.dataset),\n",
    "                100. * batch_idx / len(train_loader), loss.data.item()))"
   ]
  },
  {
   "cell_type": "code",
   "execution_count": 20,
   "id": "46a0c5b5",
   "metadata": {},
   "outputs": [],
   "source": [
    "def validate(loss_vector, accuracy_vector):\n",
    "    model.eval()\n",
    "    val_loss, correct = 0, 0\n",
    "    for data, target in validation_loader:\n",
    "        data = data.to(device)\n",
    "        target = target.to(device)\n",
    "        output = model(data)\n",
    "        val_loss += criterion(output, target).data.item()\n",
    "        pred = output.data.max(1)[1] # get the index of the max log-probability\n",
    "        correct += pred.eq(target.data).cpu().sum()\n",
    "\n",
    "    val_loss /= len(validation_loader)\n",
    "    loss_vector.append(val_loss)\n",
    "\n",
    "    accuracy = 100. * correct.to(torch.float32) / len(validation_loader.dataset)\n",
    "    accuracy_vector.append(accuracy)\n",
    "    \n",
    "    print('\\nValidation set: Average loss: {:.4f}, Accuracy: {}/{} ({:.0f}%)\\n'.format(\n",
    "        val_loss, correct, len(validation_loader.dataset), accuracy))"
   ]
  },
  {
   "cell_type": "code",
   "execution_count": 21,
   "id": "a0725bb1",
   "metadata": {},
   "outputs": [
    {
     "name": "stdout",
     "output_type": "stream",
     "text": [
      "Train Epoch: 1 [0/60000 (0%)]\tLoss: 2.306665\n",
      "Train Epoch: 1 [6400/60000 (11%)]\tLoss: 2.301573\n",
      "Train Epoch: 1 [12800/60000 (21%)]\tLoss: 2.303864\n",
      "Train Epoch: 1 [19200/60000 (32%)]\tLoss: 2.295106\n",
      "Train Epoch: 1 [25600/60000 (43%)]\tLoss: 2.294404\n",
      "Train Epoch: 1 [32000/60000 (53%)]\tLoss: 2.244560\n",
      "Train Epoch: 1 [38400/60000 (64%)]\tLoss: 2.140845\n",
      "Train Epoch: 1 [44800/60000 (75%)]\tLoss: 2.057534\n",
      "Train Epoch: 1 [51200/60000 (85%)]\tLoss: 1.994382\n",
      "Train Epoch: 1 [57600/60000 (96%)]\tLoss: 1.942226\n",
      "\n",
      "Validation set: Average loss: 1.5927, Accuracy: 4820/10000 (48%)\n",
      "\n",
      "Train Epoch: 2 [0/60000 (0%)]\tLoss: 1.576941\n",
      "Train Epoch: 2 [6400/60000 (11%)]\tLoss: 1.404255\n",
      "Train Epoch: 2 [12800/60000 (21%)]\tLoss: 1.345441\n",
      "Train Epoch: 2 [19200/60000 (32%)]\tLoss: 1.160642\n",
      "Train Epoch: 2 [25600/60000 (43%)]\tLoss: 1.123726\n",
      "Train Epoch: 2 [32000/60000 (53%)]\tLoss: 0.885419\n",
      "Train Epoch: 2 [38400/60000 (64%)]\tLoss: 1.042025\n",
      "Train Epoch: 2 [44800/60000 (75%)]\tLoss: 1.344625\n",
      "Train Epoch: 2 [51200/60000 (85%)]\tLoss: 0.737000\n",
      "Train Epoch: 2 [57600/60000 (96%)]\tLoss: 0.558496\n",
      "\n",
      "Validation set: Average loss: 0.5441, Accuracy: 8540/10000 (85%)\n",
      "\n",
      "Train Epoch: 3 [0/60000 (0%)]\tLoss: 1.120946\n",
      "Train Epoch: 3 [6400/60000 (11%)]\tLoss: 0.511363\n",
      "Train Epoch: 3 [12800/60000 (21%)]\tLoss: 0.469289\n",
      "Train Epoch: 3 [19200/60000 (32%)]\tLoss: 0.877235\n",
      "Train Epoch: 3 [25600/60000 (43%)]\tLoss: 0.690230\n",
      "Train Epoch: 3 [32000/60000 (53%)]\tLoss: 0.246020\n",
      "Train Epoch: 3 [38400/60000 (64%)]\tLoss: 0.901290\n",
      "Train Epoch: 3 [44800/60000 (75%)]\tLoss: 0.338867\n",
      "Train Epoch: 3 [51200/60000 (85%)]\tLoss: 1.056731\n",
      "Train Epoch: 3 [57600/60000 (96%)]\tLoss: 0.508967\n",
      "\n",
      "Validation set: Average loss: 0.2968, Accuracy: 9186/10000 (92%)\n",
      "\n",
      "Train Epoch: 4 [0/60000 (0%)]\tLoss: 0.452687\n",
      "Train Epoch: 4 [6400/60000 (11%)]\tLoss: 0.373124\n",
      "Train Epoch: 4 [12800/60000 (21%)]\tLoss: 0.521598\n",
      "Train Epoch: 4 [19200/60000 (32%)]\tLoss: 0.568555\n",
      "Train Epoch: 4 [25600/60000 (43%)]\tLoss: 0.125272\n",
      "Train Epoch: 4 [32000/60000 (53%)]\tLoss: 0.267854\n",
      "Train Epoch: 4 [38400/60000 (64%)]\tLoss: 0.209049\n",
      "Train Epoch: 4 [44800/60000 (75%)]\tLoss: 0.389220\n",
      "Train Epoch: 4 [51200/60000 (85%)]\tLoss: 0.481084\n",
      "Train Epoch: 4 [57600/60000 (96%)]\tLoss: 0.358313\n",
      "\n",
      "Validation set: Average loss: 0.2380, Accuracy: 9336/10000 (93%)\n",
      "\n",
      "Train Epoch: 5 [0/60000 (0%)]\tLoss: 0.443208\n",
      "Train Epoch: 5 [6400/60000 (11%)]\tLoss: 0.431645\n",
      "Train Epoch: 5 [12800/60000 (21%)]\tLoss: 0.364809\n",
      "Train Epoch: 5 [19200/60000 (32%)]\tLoss: 0.352332\n",
      "Train Epoch: 5 [25600/60000 (43%)]\tLoss: 0.225187\n",
      "Train Epoch: 5 [32000/60000 (53%)]\tLoss: 0.109343\n",
      "Train Epoch: 5 [38400/60000 (64%)]\tLoss: 0.453016\n",
      "Train Epoch: 5 [44800/60000 (75%)]\tLoss: 0.282212\n",
      "Train Epoch: 5 [51200/60000 (85%)]\tLoss: 0.189903\n",
      "Train Epoch: 5 [57600/60000 (96%)]\tLoss: 0.177448\n",
      "\n",
      "Validation set: Average loss: 0.2019, Accuracy: 9448/10000 (94%)\n",
      "\n",
      "Train Epoch: 6 [0/60000 (0%)]\tLoss: 0.259538\n",
      "Train Epoch: 6 [6400/60000 (11%)]\tLoss: 0.253067\n",
      "Train Epoch: 6 [12800/60000 (21%)]\tLoss: 0.282755\n",
      "Train Epoch: 6 [19200/60000 (32%)]\tLoss: 0.639674\n",
      "Train Epoch: 6 [25600/60000 (43%)]\tLoss: 0.699650\n",
      "Train Epoch: 6 [32000/60000 (53%)]\tLoss: 0.229919\n",
      "Train Epoch: 6 [38400/60000 (64%)]\tLoss: 0.147602\n",
      "Train Epoch: 6 [44800/60000 (75%)]\tLoss: 0.185367\n",
      "Train Epoch: 6 [51200/60000 (85%)]\tLoss: 0.806758\n",
      "Train Epoch: 6 [57600/60000 (96%)]\tLoss: 0.171781\n",
      "\n",
      "Validation set: Average loss: 0.1869, Accuracy: 9477/10000 (95%)\n",
      "\n",
      "Train Epoch: 7 [0/60000 (0%)]\tLoss: 0.167283\n",
      "Train Epoch: 7 [6400/60000 (11%)]\tLoss: 0.053746\n",
      "Train Epoch: 7 [12800/60000 (21%)]\tLoss: 0.079372\n",
      "Train Epoch: 7 [19200/60000 (32%)]\tLoss: 0.192979\n",
      "Train Epoch: 7 [25600/60000 (43%)]\tLoss: 0.135095\n",
      "Train Epoch: 7 [32000/60000 (53%)]\tLoss: 0.202818\n",
      "Train Epoch: 7 [38400/60000 (64%)]\tLoss: 0.314483\n",
      "Train Epoch: 7 [44800/60000 (75%)]\tLoss: 0.230688\n",
      "Train Epoch: 7 [51200/60000 (85%)]\tLoss: 0.243902\n",
      "Train Epoch: 7 [57600/60000 (96%)]\tLoss: 0.269114\n",
      "\n",
      "Validation set: Average loss: 0.1774, Accuracy: 9509/10000 (95%)\n",
      "\n",
      "Train Epoch: 8 [0/60000 (0%)]\tLoss: 0.152439\n",
      "Train Epoch: 8 [6400/60000 (11%)]\tLoss: 0.171021\n",
      "Train Epoch: 8 [12800/60000 (21%)]\tLoss: 0.517770\n",
      "Train Epoch: 8 [19200/60000 (32%)]\tLoss: 0.304453\n",
      "Train Epoch: 8 [25600/60000 (43%)]\tLoss: 0.418548\n",
      "Train Epoch: 8 [32000/60000 (53%)]\tLoss: 0.427278\n",
      "Train Epoch: 8 [38400/60000 (64%)]\tLoss: 0.536012\n",
      "Train Epoch: 8 [44800/60000 (75%)]\tLoss: 0.131580\n",
      "Train Epoch: 8 [51200/60000 (85%)]\tLoss: 0.500490\n",
      "Train Epoch: 8 [57600/60000 (96%)]\tLoss: 0.496437\n",
      "\n",
      "Validation set: Average loss: 0.1612, Accuracy: 9532/10000 (95%)\n",
      "\n",
      "Train Epoch: 9 [0/60000 (0%)]\tLoss: 0.511045\n",
      "Train Epoch: 9 [6400/60000 (11%)]\tLoss: 0.174457\n",
      "Train Epoch: 9 [12800/60000 (21%)]\tLoss: 0.527401\n",
      "Train Epoch: 9 [19200/60000 (32%)]\tLoss: 0.114459\n",
      "Train Epoch: 9 [25600/60000 (43%)]\tLoss: 0.380158\n",
      "Train Epoch: 9 [32000/60000 (53%)]\tLoss: 0.496365\n",
      "Train Epoch: 9 [38400/60000 (64%)]\tLoss: 0.100875\n",
      "Train Epoch: 9 [44800/60000 (75%)]\tLoss: 0.032175\n",
      "Train Epoch: 9 [51200/60000 (85%)]\tLoss: 0.166193\n",
      "Train Epoch: 9 [57600/60000 (96%)]\tLoss: 0.030951\n",
      "\n",
      "Validation set: Average loss: 0.1571, Accuracy: 9563/10000 (96%)\n",
      "\n",
      "Train Epoch: 10 [0/60000 (0%)]\tLoss: 0.084565\n",
      "Train Epoch: 10 [6400/60000 (11%)]\tLoss: 0.269633\n",
      "Train Epoch: 10 [12800/60000 (21%)]\tLoss: 0.126004\n",
      "Train Epoch: 10 [19200/60000 (32%)]\tLoss: 0.162279\n",
      "Train Epoch: 10 [25600/60000 (43%)]\tLoss: 0.100945\n",
      "Train Epoch: 10 [32000/60000 (53%)]\tLoss: 0.078933\n",
      "Train Epoch: 10 [38400/60000 (64%)]\tLoss: 0.137095\n",
      "Train Epoch: 10 [44800/60000 (75%)]\tLoss: 0.169073\n",
      "Train Epoch: 10 [51200/60000 (85%)]\tLoss: 0.225322\n",
      "Train Epoch: 10 [57600/60000 (96%)]\tLoss: 0.296364\n",
      "\n",
      "Validation set: Average loss: 0.1480, Accuracy: 9599/10000 (96%)\n",
      "\n",
      "CPU times: user 1min 15s, sys: 2.77 s, total: 1min 18s\n",
      "Wall time: 1min 18s\n"
     ]
    }
   ],
   "source": [
    "%%time\n",
    "epochs = 10\n",
    "\n",
    "lossv, accv = [], []\n",
    "for epoch in range(1, epochs + 1):\n",
    "    train(epoch)\n",
    "    validate(lossv, accv)"
   ]
  },
  {
   "cell_type": "code",
   "execution_count": 22,
   "id": "a32b8451",
   "metadata": {},
   "outputs": [
    {
     "data": {
      "image/png": "[encoded data removed]",
      "text/plain": [
       "<Figure size 360x216 with 1 Axes>"
      ]
     },
     "metadata": {
      "needs_background": "light"
     },
     "output_type": "display_data"
    },
    {
     "data": {
      "image/png": "[encoded data removed]",
      "text/plain": [
       "<Figure size 360x216 with 1 Axes>"
      ]
     },
     "metadata": {
      "needs_background": "light"
     },
     "output_type": "display_data"
    }
   ],
   "source": [
    "plt.figure(figsize=(5,3))\n",
    "plt.plot(np.arange(1,epochs+1), lossv)\n",
    "plt.title('validation loss')\n",
    "\n",
    "plt.figure(figsize=(5,3))\n",
    "plt.plot(np.arange(1,epochs+1), accv)\n",
    "plt.title('validation accuracy');"
   ]
  },
  {
   "cell_type": "code",
   "execution_count": 23,
   "id": "13972755",
   "metadata": {},
   "outputs": [],
   "source": [
    "#class Net(nn.Module):\n",
    "#    def __init__(self, Net):\n",
    "\n",
    "\n",
    "#        for layer in Net.named_modules():\n",
    "#            print(layer)"
   ]
  },
  {
   "cell_type": "code",
   "execution_count": 24,
   "id": "010b902e",
   "metadata": {},
   "outputs": [
    {
     "data": {
      "text/plain": [
       "Parameter containing:\n",
       "tensor([[ 2.8105e-01, -3.7906e-02,  2.7748e-01,  1.5855e-01,  2.1649e-03,\n",
       "         -1.7620e-01,  1.5567e-01, -1.0434e-01, -3.1926e-01,  2.6502e-01,\n",
       "         -7.1107e-02, -4.9589e-01,  1.3341e-01, -1.3281e-01, -5.7497e-02,\n",
       "          3.1825e-01,  3.1855e-01,  3.8258e-02, -1.0258e-01,  3.4549e-02,\n",
       "          9.6535e-02,  1.2182e-01, -4.9490e-01, -5.4785e-01, -1.8050e-01,\n",
       "         -3.2021e-01, -3.2334e-02,  1.5379e-02, -1.4431e-01,  2.3733e-01,\n",
       "          2.4969e-01, -8.7807e-02,  1.2772e-01, -1.3552e-01, -1.4799e-01,\n",
       "          1.3973e-01,  5.4057e-01,  2.8601e-01, -1.8905e-01,  2.0853e-01,\n",
       "          3.4990e-05,  3.6780e-01, -2.5595e-01, -2.0330e-02,  4.1752e-01,\n",
       "         -1.8082e-02, -5.7366e-01,  3.3370e-01, -7.1413e-01, -6.5762e-02],\n",
       "        [-4.7088e-01, -3.5581e-01, -1.8931e-01, -2.8424e-01,  1.2925e-01,\n",
       "          4.7145e-01,  5.8188e-03,  3.0628e-01,  4.2635e-01, -3.5765e-01,\n",
       "          2.4258e-02,  4.6293e-01, -3.8529e-01,  6.0169e-02,  3.9208e-01,\n",
       "         -5.2316e-01, -6.2724e-01,  4.9967e-03,  1.9319e-02,  1.2508e-01,\n",
       "          1.8976e-01, -1.1190e-01,  3.5053e-01, -9.3684e-02, -5.5734e-01,\n",
       "          7.1740e-03, -1.0430e-01,  7.7934e-02,  3.8440e-01,  2.5605e-02,\n",
       "          2.7612e-01,  4.4788e-02, -2.9427e-01, -1.5519e-01,  4.3934e-01,\n",
       "          1.4405e-01,  8.4481e-02, -5.2310e-01,  2.0800e-01,  2.9196e-01,\n",
       "         -2.5484e-01, -2.8167e-01, -2.6203e-01,  3.0305e-01,  9.0072e-02,\n",
       "         -3.6442e-02,  2.4206e-01, -1.2817e-02,  1.9696e-02, -4.0528e-01],\n",
       "        [-1.8837e-01, -4.6783e-02, -3.1362e-01,  2.0346e-01, -1.1027e-03,\n",
       "         -5.3092e-02,  7.6672e-02,  5.0693e-03, -1.8893e-02,  2.7986e-01,\n",
       "          2.1983e-02, -7.4328e-02,  4.1595e-02, -2.0151e-01,  2.7199e-01,\n",
       "         -1.2640e-01,  2.4698e-01, -1.0298e-02, -8.9397e-02,  2.2412e-01,\n",
       "          8.5021e-02, -3.6606e-02,  3.2913e-01, -2.0037e-01, -3.1026e-01,\n",
       "         -4.0228e-01,  2.2077e-03, -3.9189e-02,  2.8902e-01,  3.1587e-01,\n",
       "          1.8615e-01, -4.9737e-02,  2.2450e-01,  2.4156e-01,  1.2532e-01,\n",
       "          2.8685e-01, -5.8260e-02,  8.5293e-02, -3.0771e-02,  3.4637e-01,\n",
       "          2.1254e-01, -2.0732e-01, -4.6625e-02,  2.9226e-01, -2.7107e-02,\n",
       "          2.9865e-01,  2.5373e-01,  1.8935e-01,  5.1594e-02, -7.0784e-03],\n",
       "        [ 2.5399e-01,  3.4028e-01, -4.9463e-01,  2.4118e-01, -6.0656e-02,\n",
       "         -1.8408e-01, -5.3392e-02, -9.9532e-02, -1.7416e-01,  2.8755e-01,\n",
       "          1.1496e-01, -2.6108e-01, -3.5346e-01,  5.4304e-03, -4.1025e-01,\n",
       "          1.8824e-01,  3.3067e-01,  3.3909e-02,  1.4175e-01,  1.0220e-01,\n",
       "         -3.6195e-02, -6.3979e-02,  3.2551e-01,  2.0855e-01,  2.2886e-01,\n",
       "         -2.6127e-01,  7.7687e-02, -1.9588e-02,  2.4175e-01,  2.5434e-01,\n",
       "         -2.9112e-01,  2.6065e-01, -8.9696e-02, -7.0322e-02, -1.7919e-01,\n",
       "         -3.5167e-01, -3.5676e-01,  2.6646e-01, -3.3088e-02,  3.1242e-01,\n",
       "          2.3366e-01,  3.2605e-02, -1.4704e-01, -3.8024e-01, -3.2057e-01,\n",
       "          3.8119e-01,  2.4372e-01, -3.3487e-01,  2.8067e-01, -1.2906e-01],\n",
       "        [ 1.2076e-01, -2.0546e-01,  2.4468e-01, -6.9874e-01,  7.1419e-02,\n",
       "          3.2991e-01, -1.0378e-01,  1.3723e-01,  1.3383e-01, -3.3896e-01,\n",
       "          1.0053e-02,  3.5975e-01,  2.1125e-01, -1.2894e-02,  7.8925e-02,\n",
       "         -1.4762e-01, -5.2555e-01,  3.8379e-01, -5.9785e-02,  8.4535e-02,\n",
       "         -3.7850e-02,  4.2137e-02, -3.3653e-01,  2.2050e-01,  2.8508e-01,\n",
       "          2.6232e-01, -8.3288e-02, -6.9796e-02, -1.7668e-01,  9.7791e-03,\n",
       "          1.9933e-01,  9.7830e-02,  1.4243e-01, -1.1120e-01, -2.4661e-01,\n",
       "          3.4649e-01,  8.6809e-02, -4.8938e-01,  4.2697e-01, -4.9007e-01,\n",
       "         -2.7726e-01, -3.1837e-01,  5.0899e-01,  3.4297e-01, -1.2448e-01,\n",
       "         -7.1101e-02,  2.8974e-02,  2.0753e-01,  2.8220e-02,  5.1088e-01],\n",
       "        [ 3.1824e-01,  3.1110e-01,  2.2060e-01,  1.5903e-01,  1.0019e-01,\n",
       "         -3.8704e-01, -2.6752e-01, -3.6259e-01, -6.5242e-01,  1.9604e-01,\n",
       "          1.3808e-02, -4.6708e-01,  1.8359e-01, -7.0093e-02, -1.0304e-01,\n",
       "          2.9069e-01,  3.3493e-01,  8.4276e-04, -5.5979e-02, -1.3367e-01,\n",
       "         -3.9160e-01,  1.3571e-01, -4.7223e-01,  3.5960e-01,  3.7695e-01,\n",
       "          1.5297e-01, -5.9733e-02,  9.3193e-02, -4.6475e-01, -8.3125e-02,\n",
       "         -1.8777e-01,  1.4464e-01,  7.2457e-02,  1.8288e-01, -4.5680e-02,\n",
       "          2.9057e-02, -7.1330e-02,  2.5066e-01, -1.3540e-01, -3.1950e-01,\n",
       "          2.8082e-01,  3.1742e-01, -3.0467e-01, -1.3182e-01, -1.3587e-02,\n",
       "         -1.2729e-01, -5.5809e-02,  1.2349e-01,  2.7553e-01, -1.3416e-01],\n",
       "        [-2.1608e-01, -3.4777e-01,  2.8196e-01, -3.3735e-01, -1.0180e-01,\n",
       "         -4.8122e-01,  1.1218e-01, -2.4734e-01, -3.8303e-01, -3.1802e-01,\n",
       "         -1.8086e-02, -2.8494e-01,  2.9322e-01,  3.1578e-01,  2.1094e-01,\n",
       "          2.0817e-01, -1.6672e-01, -1.3958e-01, -5.6491e-02,  1.4926e-01,\n",
       "         -1.2581e-01,  1.1279e-01, -3.0494e-01, -1.9726e-02, -1.1745e-01,\n",
       "         -8.8228e-02,  1.8243e-01, -1.1230e-01, -3.8530e-01,  1.2529e-01,\n",
       "          3.4629e-01,  2.6219e-02,  2.9120e-01,  3.1923e-01, -1.7754e-01,\n",
       "          4.0171e-01,  1.5594e-01, -2.3539e-01, -2.0222e-01, -5.6297e-01,\n",
       "          2.6510e-01,  1.6644e-01, -3.1327e-01,  4.1327e-01, -9.5354e-03,\n",
       "         -2.1981e-01,  2.5823e-01,  3.2545e-01,  8.8701e-02, -3.7556e-01],\n",
       "        [ 3.1583e-01, -2.9251e-01, -3.5047e-03,  1.8992e-01, -6.3987e-03,\n",
       "          3.5472e-01,  1.2008e-01, -1.5339e-01,  2.2960e-01,  2.9862e-01,\n",
       "         -1.2473e-01,  2.9879e-01, -3.3225e-01, -1.1928e-01, -8.9148e-02,\n",
       "         -8.6687e-02,  3.0078e-01, -1.7073e-01, -8.7641e-02,  2.3893e-01,\n",
       "          2.7136e-01, -3.7596e-02,  2.5568e-01, -3.0762e-01, -3.1709e-01,\n",
       "          7.2613e-02,  1.1274e-01, -5.9179e-02,  3.0516e-01, -1.4157e-01,\n",
       "         -6.6937e-03, -7.0694e-03, -2.9164e-01, -3.0928e-01,  3.6071e-01,\n",
       "         -2.9842e-01, -5.1380e-02,  3.0231e-01,  4.3192e-01,  3.3143e-01,\n",
       "         -4.9168e-01, -2.4986e-02,  3.5867e-01, -2.2974e-01,  1.4068e-01,\n",
       "          1.7236e-01, -2.7561e-01, -1.3278e-01, -4.8346e-01,  2.3213e-01],\n",
       "        [-3.7561e-01,  3.4113e-01,  1.0564e-01,  4.8529e-02,  5.0942e-02,\n",
       "         -2.8663e-01,  2.9266e-02,  2.4869e-01,  3.6206e-01, -1.3873e-01,\n",
       "          1.1177e-01,  3.3956e-02, -5.1559e-03,  4.1358e-02,  1.7318e-01,\n",
       "         -2.2090e-01,  1.4278e-01, -9.3617e-02, -1.0703e-01, -2.3748e-01,\n",
       "         -2.3501e-01,  8.2297e-02,  3.8907e-01,  4.0210e-01,  3.7180e-01,\n",
       "          2.3019e-01, -1.2575e-02,  7.6697e-02,  2.5500e-01, -1.2125e-01,\n",
       "         -2.7320e-01, -1.8448e-02, -4.7851e-02,  3.4017e-01, -1.5289e-01,\n",
       "         -2.1990e-01, -3.3507e-03, -1.8768e-01, -1.7712e-01, -4.7933e-02,\n",
       "          3.0183e-01, -4.8136e-01, -3.7562e-01, -8.2522e-02,  6.3360e-02,\n",
       "         -3.0928e-01,  3.7676e-01, -2.4805e-01,  3.5862e-01, -2.9080e-01],\n",
       "        [ 2.8388e-01,  2.5289e-01,  1.9557e-01,  1.2560e-01,  9.3290e-02,\n",
       "          3.3734e-01, -1.6266e-01, -2.2641e-02,  2.8683e-01,  3.4650e-02,\n",
       "          4.0948e-03,  3.1200e-01,  8.0442e-04, -3.3696e-02, -2.3650e-01,\n",
       "          1.3501e-01,  2.6555e-01,  3.4032e-01,  1.0607e-01, -4.3490e-02,\n",
       "         -1.4397e-01,  5.4495e-02, -1.6222e-01,  3.3164e-01,  3.1865e-01,\n",
       "          2.8811e-01,  1.5255e-02,  9.9888e-02,  6.3530e-02,  3.6038e-02,\n",
       "         -3.8705e-01, -1.3421e-01, -6.3311e-01, -4.2135e-01, -2.7302e-01,\n",
       "         -4.0942e-01, -1.6200e-02,  2.5554e-01,  4.9777e-01, -2.2099e-01,\n",
       "         -2.8613e-01,  3.2608e-02,  5.2027e-01, -4.3484e-01, -4.3659e-02,\n",
       "         -5.4834e-02, -2.4879e-01, -3.3759e-01,  1.8281e-01,  4.8873e-01]],\n",
       "       requires_grad=True)"
      ]
     },
     "execution_count": 24,
     "metadata": {},
     "output_type": "execute_result"
    }
   ],
   "source": [
    "model.fc5.weight"
   ]
  },
  {
   "cell_type": "code",
   "execution_count": 25,
   "id": "37d81889",
   "metadata": {},
   "outputs": [
    {
     "data": {
      "text/plain": [
       "Parameter containing:\n",
       "tensor([[ 0.0349, -0.0294,  0.0270,  ...,  0.0211, -0.0113,  0.0100],\n",
       "        [ 0.0230,  0.0346,  0.0006,  ..., -0.0300, -0.0025, -0.0240],\n",
       "        [ 0.0353,  0.0303, -0.0055,  ..., -0.0158,  0.0199,  0.0016],\n",
       "        ...,\n",
       "        [ 0.0109, -0.0212,  0.0062,  ..., -0.0096, -0.0263,  0.0157],\n",
       "        [ 0.0228,  0.0040,  0.0327,  ...,  0.0143, -0.0126,  0.0213],\n",
       "        [-0.0165,  0.0011, -0.0155,  ..., -0.0082, -0.0025, -0.0165]],\n",
       "       requires_grad=True)"
      ]
     },
     "execution_count": 25,
     "metadata": {},
     "output_type": "execute_result"
    }
   ],
   "source": [
    "model.fc1.weight\n"
   ]
  },
  {
   "cell_type": "code",
   "execution_count": 26,
   "id": "522ec7b9",
   "metadata": {},
   "outputs": [
    {
     "data": {
      "text/plain": [
       "torch.Size([50, 784])"
      ]
     },
     "execution_count": 26,
     "metadata": {},
     "output_type": "execute_result"
    }
   ],
   "source": [
    "\n",
    "model.fc1.weight.size()"
   ]
  },
  {
   "cell_type": "code",
   "execution_count": 27,
   "id": "5bc047e7",
   "metadata": {},
   "outputs": [
    {
     "data": {
      "text/plain": [
       "Parameter containing:\n",
       "tensor([[ 0.0206, -0.0559,  0.0236,  ...,  0.1230,  0.0151,  0.2391],\n",
       "        [ 0.0850, -0.1188,  0.1156,  ...,  0.0142,  0.0137,  0.0612],\n",
       "        [ 0.2093, -0.1250,  0.0737,  ...,  0.0138, -0.0174,  0.0607],\n",
       "        ...,\n",
       "        [-0.0852, -0.1523, -0.1537,  ...,  0.0969,  0.0744, -0.1056],\n",
       "        [ 0.0023,  0.3771,  0.1167,  ..., -0.0300, -0.2168, -0.1135],\n",
       "        [ 0.3753,  0.0869,  0.0400,  ...,  0.0910, -0.0418,  0.2144]],\n",
       "       requires_grad=True)"
      ]
     },
     "execution_count": 27,
     "metadata": {},
     "output_type": "execute_result"
    }
   ],
   "source": [
    "model.fc2.weight\n",
    "\n"
   ]
  },
  {
   "cell_type": "code",
   "execution_count": 28,
   "id": "a1f2e8bf",
   "metadata": {},
   "outputs": [
    {
     "data": {
      "text/plain": [
       "Parameter containing:\n",
       "tensor([[-0.0891, -0.1436,  0.1826,  ..., -0.1204,  0.0622, -0.0202],\n",
       "        [ 0.1552,  0.1152,  0.2123,  ..., -0.0590, -0.0314,  0.0845],\n",
       "        [ 0.1300, -0.0182,  0.0050,  ...,  0.1450, -0.1891, -0.0030],\n",
       "        ...,\n",
       "        [-0.0971, -0.1553,  0.1382,  ...,  0.0203,  0.0453,  0.2840],\n",
       "        [-0.0434, -0.2382, -0.0607,  ...,  0.1717,  0.1198,  0.1136],\n",
       "        [ 0.1017, -0.0252, -0.2589,  ...,  0.2376,  0.1953, -0.1567]],\n",
       "       requires_grad=True)"
      ]
     },
     "execution_count": 28,
     "metadata": {},
     "output_type": "execute_result"
    }
   ],
   "source": [
    "model.fc3.weight\n"
   ]
  },
  {
   "cell_type": "code",
   "execution_count": 29,
   "id": "79282e4c",
   "metadata": {},
   "outputs": [
    {
     "data": {
      "text/plain": [
       "Parameter containing:\n",
       "tensor([[-0.1512, -0.0183, -0.0783,  ..., -0.2007,  0.1047,  0.2728],\n",
       "        [ 0.0509, -0.0447, -0.1909,  ..., -0.0585,  0.0158, -0.1087],\n",
       "        [-0.0505, -0.0414, -0.0559,  ..., -0.0429, -0.0878,  0.1150],\n",
       "        ...,\n",
       "        [-0.0814,  0.1317,  0.0651,  ..., -0.0305, -0.0095, -0.0159],\n",
       "        [ 0.2137, -0.0419, -0.2042,  ...,  0.1085, -0.0325, -0.0013],\n",
       "        [-0.0720,  0.0582, -0.1456,  ..., -0.3069, -0.1786,  0.0214]],\n",
       "       requires_grad=True)"
      ]
     },
     "execution_count": 29,
     "metadata": {},
     "output_type": "execute_result"
    }
   ],
   "source": [
    "model.fc4.weight\n"
   ]
  },
  {
   "cell_type": "code",
   "execution_count": 30,
   "id": "cc09a68c",
   "metadata": {},
   "outputs": [
    {
     "data": {
      "text/plain": [
       "Parameter containing:\n",
       "tensor([[ 2.8105e-01, -3.7906e-02,  2.7748e-01,  1.5855e-01,  2.1649e-03,\n",
       "         -1.7620e-01,  1.5567e-01, -1.0434e-01, -3.1926e-01,  2.6502e-01,\n",
       "         -7.1107e-02, -4.9589e-01,  1.3341e-01, -1.3281e-01, -5.7497e-02,\n",
       "          3.1825e-01,  3.1855e-01,  3.8258e-02, -1.0258e-01,  3.4549e-02,\n",
       "          9.6535e-02,  1.2182e-01, -4.9490e-01, -5.4785e-01, -1.8050e-01,\n",
       "         -3.2021e-01, -3.2334e-02,  1.5379e-02, -1.4431e-01,  2.3733e-01,\n",
       "          2.4969e-01, -8.7807e-02,  1.2772e-01, -1.3552e-01, -1.4799e-01,\n",
       "          1.3973e-01,  5.4057e-01,  2.8601e-01, -1.8905e-01,  2.0853e-01,\n",
       "          3.4990e-05,  3.6780e-01, -2.5595e-01, -2.0330e-02,  4.1752e-01,\n",
       "         -1.8082e-02, -5.7366e-01,  3.3370e-01, -7.1413e-01, -6.5762e-02],\n",
       "        [-4.7088e-01, -3.5581e-01, -1.8931e-01, -2.8424e-01,  1.2925e-01,\n",
       "          4.7145e-01,  5.8188e-03,  3.0628e-01,  4.2635e-01, -3.5765e-01,\n",
       "          2.4258e-02,  4.6293e-01, -3.8529e-01,  6.0169e-02,  3.9208e-01,\n",
       "         -5.2316e-01, -6.2724e-01,  4.9967e-03,  1.9319e-02,  1.2508e-01,\n",
       "          1.8976e-01, -1.1190e-01,  3.5053e-01, -9.3684e-02, -5.5734e-01,\n",
       "          7.1740e-03, -1.0430e-01,  7.7934e-02,  3.8440e-01,  2.5605e-02,\n",
       "          2.7612e-01,  4.4788e-02, -2.9427e-01, -1.5519e-01,  4.3934e-01,\n",
       "          1.4405e-01,  8.4481e-02, -5.2310e-01,  2.0800e-01,  2.9196e-01,\n",
       "         -2.5484e-01, -2.8167e-01, -2.6203e-01,  3.0305e-01,  9.0072e-02,\n",
       "         -3.6442e-02,  2.4206e-01, -1.2817e-02,  1.9696e-02, -4.0528e-01],\n",
       "        [-1.8837e-01, -4.6783e-02, -3.1362e-01,  2.0346e-01, -1.1027e-03,\n",
       "         -5.3092e-02,  7.6672e-02,  5.0693e-03, -1.8893e-02,  2.7986e-01,\n",
       "          2.1983e-02, -7.4328e-02,  4.1595e-02, -2.0151e-01,  2.7199e-01,\n",
       "         -1.2640e-01,  2.4698e-01, -1.0298e-02, -8.9397e-02,  2.2412e-01,\n",
       "          8.5021e-02, -3.6606e-02,  3.2913e-01, -2.0037e-01, -3.1026e-01,\n",
       "         -4.0228e-01,  2.2077e-03, -3.9189e-02,  2.8902e-01,  3.1587e-01,\n",
       "          1.8615e-01, -4.9737e-02,  2.2450e-01,  2.4156e-01,  1.2532e-01,\n",
       "          2.8685e-01, -5.8260e-02,  8.5293e-02, -3.0771e-02,  3.4637e-01,\n",
       "          2.1254e-01, -2.0732e-01, -4.6625e-02,  2.9226e-01, -2.7107e-02,\n",
       "          2.9865e-01,  2.5373e-01,  1.8935e-01,  5.1594e-02, -7.0784e-03],\n",
       "        [ 2.5399e-01,  3.4028e-01, -4.9463e-01,  2.4118e-01, -6.0656e-02,\n",
       "         -1.8408e-01, -5.3392e-02, -9.9532e-02, -1.7416e-01,  2.8755e-01,\n",
       "          1.1496e-01, -2.6108e-01, -3.5346e-01,  5.4304e-03, -4.1025e-01,\n",
       "          1.8824e-01,  3.3067e-01,  3.3909e-02,  1.4175e-01,  1.0220e-01,\n",
       "         -3.6195e-02, -6.3979e-02,  3.2551e-01,  2.0855e-01,  2.2886e-01,\n",
       "         -2.6127e-01,  7.7687e-02, -1.9588e-02,  2.4175e-01,  2.5434e-01,\n",
       "         -2.9112e-01,  2.6065e-01, -8.9696e-02, -7.0322e-02, -1.7919e-01,\n",
       "         -3.5167e-01, -3.5676e-01,  2.6646e-01, -3.3088e-02,  3.1242e-01,\n",
       "          2.3366e-01,  3.2605e-02, -1.4704e-01, -3.8024e-01, -3.2057e-01,\n",
       "          3.8119e-01,  2.4372e-01, -3.3487e-01,  2.8067e-01, -1.2906e-01],\n",
       "        [ 1.2076e-01, -2.0546e-01,  2.4468e-01, -6.9874e-01,  7.1419e-02,\n",
       "          3.2991e-01, -1.0378e-01,  1.3723e-01,  1.3383e-01, -3.3896e-01,\n",
       "          1.0053e-02,  3.5975e-01,  2.1125e-01, -1.2894e-02,  7.8925e-02,\n",
       "         -1.4762e-01, -5.2555e-01,  3.8379e-01, -5.9785e-02,  8.4535e-02,\n",
       "         -3.7850e-02,  4.2137e-02, -3.3653e-01,  2.2050e-01,  2.8508e-01,\n",
       "          2.6232e-01, -8.3288e-02, -6.9796e-02, -1.7668e-01,  9.7791e-03,\n",
       "          1.9933e-01,  9.7830e-02,  1.4243e-01, -1.1120e-01, -2.4661e-01,\n",
       "          3.4649e-01,  8.6809e-02, -4.8938e-01,  4.2697e-01, -4.9007e-01,\n",
       "         -2.7726e-01, -3.1837e-01,  5.0899e-01,  3.4297e-01, -1.2448e-01,\n",
       "         -7.1101e-02,  2.8974e-02,  2.0753e-01,  2.8220e-02,  5.1088e-01],\n",
       "        [ 3.1824e-01,  3.1110e-01,  2.2060e-01,  1.5903e-01,  1.0019e-01,\n",
       "         -3.8704e-01, -2.6752e-01, -3.6259e-01, -6.5242e-01,  1.9604e-01,\n",
       "          1.3808e-02, -4.6708e-01,  1.8359e-01, -7.0093e-02, -1.0304e-01,\n",
       "          2.9069e-01,  3.3493e-01,  8.4276e-04, -5.5979e-02, -1.3367e-01,\n",
       "         -3.9160e-01,  1.3571e-01, -4.7223e-01,  3.5960e-01,  3.7695e-01,\n",
       "          1.5297e-01, -5.9733e-02,  9.3193e-02, -4.6475e-01, -8.3125e-02,\n",
       "         -1.8777e-01,  1.4464e-01,  7.2457e-02,  1.8288e-01, -4.5680e-02,\n",
       "          2.9057e-02, -7.1330e-02,  2.5066e-01, -1.3540e-01, -3.1950e-01,\n",
       "          2.8082e-01,  3.1742e-01, -3.0467e-01, -1.3182e-01, -1.3587e-02,\n",
       "         -1.2729e-01, -5.5809e-02,  1.2349e-01,  2.7553e-01, -1.3416e-01],\n",
       "        [-2.1608e-01, -3.4777e-01,  2.8196e-01, -3.3735e-01, -1.0180e-01,\n",
       "         -4.8122e-01,  1.1218e-01, -2.4734e-01, -3.8303e-01, -3.1802e-01,\n",
       "         -1.8086e-02, -2.8494e-01,  2.9322e-01,  3.1578e-01,  2.1094e-01,\n",
       "          2.0817e-01, -1.6672e-01, -1.3958e-01, -5.6491e-02,  1.4926e-01,\n",
       "         -1.2581e-01,  1.1279e-01, -3.0494e-01, -1.9726e-02, -1.1745e-01,\n",
       "         -8.8228e-02,  1.8243e-01, -1.1230e-01, -3.8530e-01,  1.2529e-01,\n",
       "          3.4629e-01,  2.6219e-02,  2.9120e-01,  3.1923e-01, -1.7754e-01,\n",
       "          4.0171e-01,  1.5594e-01, -2.3539e-01, -2.0222e-01, -5.6297e-01,\n",
       "          2.6510e-01,  1.6644e-01, -3.1327e-01,  4.1327e-01, -9.5354e-03,\n",
       "         -2.1981e-01,  2.5823e-01,  3.2545e-01,  8.8701e-02, -3.7556e-01],\n",
       "        [ 3.1583e-01, -2.9251e-01, -3.5047e-03,  1.8992e-01, -6.3987e-03,\n",
       "          3.5472e-01,  1.2008e-01, -1.5339e-01,  2.2960e-01,  2.9862e-01,\n",
       "         -1.2473e-01,  2.9879e-01, -3.3225e-01, -1.1928e-01, -8.9148e-02,\n",
       "         -8.6687e-02,  3.0078e-01, -1.7073e-01, -8.7641e-02,  2.3893e-01,\n",
       "          2.7136e-01, -3.7596e-02,  2.5568e-01, -3.0762e-01, -3.1709e-01,\n",
       "          7.2613e-02,  1.1274e-01, -5.9179e-02,  3.0516e-01, -1.4157e-01,\n",
       "         -6.6937e-03, -7.0694e-03, -2.9164e-01, -3.0928e-01,  3.6071e-01,\n",
       "         -2.9842e-01, -5.1380e-02,  3.0231e-01,  4.3192e-01,  3.3143e-01,\n",
       "         -4.9168e-01, -2.4986e-02,  3.5867e-01, -2.2974e-01,  1.4068e-01,\n",
       "          1.7236e-01, -2.7561e-01, -1.3278e-01, -4.8346e-01,  2.3213e-01],\n",
       "        [-3.7561e-01,  3.4113e-01,  1.0564e-01,  4.8529e-02,  5.0942e-02,\n",
       "         -2.8663e-01,  2.9266e-02,  2.4869e-01,  3.6206e-01, -1.3873e-01,\n",
       "          1.1177e-01,  3.3956e-02, -5.1559e-03,  4.1358e-02,  1.7318e-01,\n",
       "         -2.2090e-01,  1.4278e-01, -9.3617e-02, -1.0703e-01, -2.3748e-01,\n",
       "         -2.3501e-01,  8.2297e-02,  3.8907e-01,  4.0210e-01,  3.7180e-01,\n",
       "          2.3019e-01, -1.2575e-02,  7.6697e-02,  2.5500e-01, -1.2125e-01,\n",
       "         -2.7320e-01, -1.8448e-02, -4.7851e-02,  3.4017e-01, -1.5289e-01,\n",
       "         -2.1990e-01, -3.3507e-03, -1.8768e-01, -1.7712e-01, -4.7933e-02,\n",
       "          3.0183e-01, -4.8136e-01, -3.7562e-01, -8.2522e-02,  6.3360e-02,\n",
       "         -3.0928e-01,  3.7676e-01, -2.4805e-01,  3.5862e-01, -2.9080e-01],\n",
       "        [ 2.8388e-01,  2.5289e-01,  1.9557e-01,  1.2560e-01,  9.3290e-02,\n",
       "          3.3734e-01, -1.6266e-01, -2.2641e-02,  2.8683e-01,  3.4650e-02,\n",
       "          4.0948e-03,  3.1200e-01,  8.0442e-04, -3.3696e-02, -2.3650e-01,\n",
       "          1.3501e-01,  2.6555e-01,  3.4032e-01,  1.0607e-01, -4.3490e-02,\n",
       "         -1.4397e-01,  5.4495e-02, -1.6222e-01,  3.3164e-01,  3.1865e-01,\n",
       "          2.8811e-01,  1.5255e-02,  9.9888e-02,  6.3530e-02,  3.6038e-02,\n",
       "         -3.8705e-01, -1.3421e-01, -6.3311e-01, -4.2135e-01, -2.7302e-01,\n",
       "         -4.0942e-01, -1.6200e-02,  2.5554e-01,  4.9777e-01, -2.2099e-01,\n",
       "         -2.8613e-01,  3.2608e-02,  5.2027e-01, -4.3484e-01, -4.3659e-02,\n",
       "         -5.4834e-02, -2.4879e-01, -3.3759e-01,  1.8281e-01,  4.8873e-01]],\n",
       "       requires_grad=True)"
      ]
     },
     "execution_count": 30,
     "metadata": {},
     "output_type": "execute_result"
    }
   ],
   "source": [
    "model.fc5.weight\n"
   ]
  },
  {
   "cell_type": "code",
   "execution_count": null,
   "id": "2a6ec396",
   "metadata": {},
   "outputs": [],
   "source": []
  }
 ],
 "metadata": {
  "kernelspec": {
   "display_name": "Python 3 (ipykernel)",
   "language": "python",
   "name": "python3"
  },
  "language_info": {
   "codemirror_mode": {
    "name": "ipython",
    "version": 3
   },
   "file_extension": ".py",
   "mimetype": "text/x-python",
   "name": "python",
   "nbconvert_exporter": "python",
   "pygments_lexer": "ipython3",
   "version": "3.8.3"
  }
 },
 "nbformat": 4,
 "nbformat_minor": 5
}
